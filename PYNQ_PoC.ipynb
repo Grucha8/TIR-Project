{
 "cells": [
  {
   "cell_type": "markdown",
   "metadata": {},
   "source": [
    "# Informacje początkowe\n",
    "Ten `python notebook` przedstawia działanie spejcalnego overlay'u dla platformy PYNQ który umożliwi nam przyszpieszenie operacji niektórych funkcji udostępnianych nam przez bibliotekę OpenCV, poprzez implementacje ich na układzie fpga.\n",
    "\n",
    "Same operacje jakie będziemy sprawdzać to 2D filtry obrazu.\n",
    "\n",
    "Obraz będzie pobierany na bierząco z wejścia hdmi płytki i wypuszczany przez wyjście hdmi płytki.\n",
    "\n",
    "Ten notebook posiada następujące kroki:\n",
    "1. Inicjalizacja płytki oraz fpga\n",
    "2. Pokazanie działania filtrowania obrazu przy pomocy procesora\n",
    "3. Pokazanie działanie filtrowania obrazu przy pomocy fpga"
   ]
  },
  {
   "cell_type": "markdown",
   "metadata": {},
   "source": [
    "# Inicjalizacja płytki oraz fpga"
   ]
  },
  {
   "cell_type": "markdown",
   "metadata": {},
   "source": [
    "## Ładowanie overlay'u\n",
    "Ładujemy specjalny overlay który pozwoli nam używać funkcji openCV na układzie fpga, co przyspieszy ich działanie."
   ]
  },
  {
   "cell_type": "code",
   "execution_count": null,
   "metadata": {},
   "outputs": [],
   "source": [
    "# Load filter2D + dilate overlay\n",
    "from pynq import Overlay\n",
    "bareHDMI = Overlay(\"/usr/local/lib/python3.6/dist-packages/\"\n",
    "               \"pynq_cv/overlays/xv2Filter2DDilate.bit\")\n",
    "import pynq_cv.overlays.xv2Filter2DDilate as xv2\n",
    "import pynq_cv.overlayslayslays.\n",
    "\n",
    "# Load xlnk memory mangager\n",
    "from pynq import Xlnk\n",
    "Xlnk.set_allocator_library(\"/usr/local/lib/python3.6/dist-packages/\"\n",
    "                           \"pynq_cv/overlays/xv2Filter2DDilate.so\")\n",
    "mem_manager = Xlnk()"
   ]
  },
  {
   "cell_type": "markdown",
   "metadata": {},
   "source": [
    "## Konfiguracja hdmi"
   ]
  },
  {
   "cell_type": "code",
   "execution_count": null,
   "metadata": {},
   "outputs": [],
   "source": [
    "hdmi_in = bareHDMI.video.hdmi_in\n",
    "hdmi_out = bareHDMI.video.hdmi_out\n",
    "\n",
    "from pynq.lib.video import *\n",
    "hdmi_in.configure(PIXEL_GRAY)\n",
    "hdmi_out.configure(hdmi_in.mode)\n",
    "\n",
    "hdmi_in.cacheable_frames = False\n",
    "hdmi_out.cacheable_frames = False\n",
    "\n",
    "hdmi_in.start()\n",
    "hdmi_out.start()"
   ]
  },
  {
   "cell_type": "markdown",
   "metadata": {},
   "source": [
    "## Konfiguracja parametrów wejścia i wyjścia dla hdmi "
   ]
  },
  {
   "cell_type": "code",
   "execution_count": null,
   "metadata": {},
   "outputs": [],
   "source": [
    "mymode = hdmi_in.mode\n",
    "print(\"My mode: \" + str(mymode))\n",
    "\n",
    "height = hdmi_in.mode.height\n",
    "width = hdmi_in.mode.width\n",
    "bpp = hdmi_in.mode.bits_per_pixel"
   ]
  },
  {
   "cell_type": "markdown",
   "metadata": {},
   "source": [
    "# Filtrowanie obrazu przy pomocy procesora"
   ]
  },
  {
   "cell_type": "markdown",
   "metadata": {},
   "source": [
    "Funkcja dzięki której będziemy móc zmieniać dynamicznie filtry obrazu.\n",
    "Do demonstracji działania wykorzystaliśmy 6 filtrów."
   ]
  },
  {
   "cell_type": "code",
   "execution_count": null,
   "metadata": {},
   "outputs": [],
   "source": [
    "import numpy as np\n",
    "  \n",
    "def setKernelAndFilter3x3(kernelName):\n",
    "    global kernel_g\n",
    "\n",
    "    kernel_g = {\n",
    "        'Laplacian high-pass': np.array([[0.0,1.0,0.0],[1.0,-4.0,1.0],\n",
    "                                         [0.0,1.0,0.0]],np.float32),\n",
    "        'Gaussian high-pass': np.array([[-0.0625,-0.125,-0.0625],\n",
    "                                        [-0.125,0.75,-0.125],\n",
    "                                        [-0.0625,-0.125,-0.0625]],np.float32),\n",
    "        'Average blur':  np.ones((3,3),np.float32)/9.0,\n",
    "        'Gaussian blur': np.array([[0.0625,0.125,0.0625],\n",
    "                                   [0.125,0.25,0.125],\n",
    "                                   [0.0625,0.125,0.0625]],np.float32),\n",
    "        'Sobel ver': np.array([[1.0,0.0,-1.0],[2.0,0.0,-2.0],\n",
    "                               [1.0,0.0,-1.0]],np.float32),\n",
    "        'Sobel hor': np.array([[1.0,2.0,1.0],[0.0,0.0,0.0],\n",
    "                               [-1.0,-2.0,-1.0]],np.float32)\n",
    "    }.get(kernelName, np.ones((3,3),np.float32)/9.0)"
   ]
  },
  {
   "cell_type": "markdown",
   "metadata": {},
   "source": [
    "Funkcja dzięki będziemy mogli dynamicznie zmieniać czy filtrowanie ma być przeprowadzane przez procesor czy fpga "
   ]
  },
  {
   "cell_type": "code",
   "execution_count": null,
   "metadata": {},
   "outputs": [],
   "source": [
    "def setProcessing(whichProcessing):\n",
    "    global processing_g\n",
    "    \n",
    "    processing_g = {\n",
    "        'Fpga processing': 'fpga',\n",
    "        'Procesor processing': 'procesor'\n",
    "    }.get(whichProcessing)"
   ]
  },
  {
   "cell_type": "markdown",
   "metadata": {},
   "source": [
    "### Główna funkcja\n",
    "Główna funkcja która jest odpowiedzialna za pobranie obrazu, nałożeniu filtru i wypuszczeniu przetworzonego obrazu na wyjście."
   ]
  },
  {
   "cell_type": "code",
   "execution_count": null,
   "metadata": {},
   "outputs": [],
   "source": [
    "import cv2\n",
    "\n",
    "def imageProccesing(fps):\n",
    "    outframe = hdmi_out.newframe()   # Pobieramy klatkę strukturę klatki by móc ją później wykorzystać \n",
    "    inframe = hdmi_in.readframe()    # Pobranie klatki z wejścia\n",
    "    \n",
    "    # Nałożenie filtru\n",
    "    if processing_g == 'fpga':\n",
    "        xv2.filter2D(inframe, -1, kernel_g, dst=outframe, borderType=cv2.BORDER_CONSTANT)   # Filtr przy użyciu fpga\n",
    "    elif processing_g == 'procesor':\n",
    "        cv2.filter2D(inframe, -1, kernel_g, dst=outframe,  borderType=cv2.BORDER_CONSTANT)   # Filtr przy użyciu procesora\n",
    "   \n",
    "    font                   = cv2.FONT_HERSHEY_SIMPLEX\n",
    "    bottomLeftCornerOfText = (1020,1060)\n",
    "    fontScale              = 1\n",
    "    fontColor              = (255,255,255)\n",
    "    lineType               = 2\n",
    "    \n",
    "    cv2.putText(outframe,str(\"%.2f\" % fps), \n",
    "    bottomLeftCornerOfText, \n",
    "    font, \n",
    "    fontScale,\n",
    "    fontColor,\n",
    "    lineType)\n",
    "    \n",
    "    hdmi_out.writeframe(outframe)    # Wypuszczenie przetworzonego obrazu\n",
    "    inframe.freebuffer()             # Wyczyszczenie bufora"
   ]
  },
  {
   "cell_type": "markdown",
   "metadata": {},
   "source": [
    "### Klasa która umożliwia nam dynamiczne zmienianie filtra\n",
    "Sama klasa jest dość prosta gdyż jest to wątek który w pętli wykonuje przetwarzanie obrazu dopóki ktoś jej nie zastopuje metodą `stop()`"
   ]
  },
  {
   "cell_type": "code",
   "execution_count": null,
   "metadata": {},
   "outputs": [],
   "source": [
    "import threading\n",
    "import time\n",
    "import statistics \n",
    "from IPython.display import display, clear_output\n",
    "\n",
    "\n",
    "class MainLoop(threading.Thread):\n",
    "    def __init__(self):\n",
    "        super(MainLoop, self).__init__()\n",
    "        self.flag = True\n",
    "        \n",
    "    def run(self):\n",
    "        num_frames = 60\n",
    "        frame = 0\n",
    "        frame_table = [0] * 60\n",
    "        table_sum = 0\n",
    "        fps = 0\n",
    "        \n",
    "        while self.flag:\n",
    "            start = time.time()\n",
    "            imageProccesing(fps)\n",
    "            end = time.time()\n",
    "            elapsed = end - start\n",
    "            table_sum += elapsed\n",
    "            table_sum -= frame_table[frame]\n",
    "            frame_table[frame] = elapsed\n",
    "            frame = (frame + 1) % 60\n",
    "            \n",
    "            fps = 1 / (table_sum / 60)\n",
    "            \n",
    "            \n",
    "            \n",
    "    def stop(self):\n",
    "        self.flag = False"
   ]
  },
  {
   "cell_type": "markdown",
   "metadata": {},
   "source": [
    "### Rozpoczęcie działania programu \n",
    "Po rozpoczęciu możemy zmieniać dynamicznie jakim filtrem chcemy zmienić obraz,\n",
    "do tego służy nam specjalny interaktywny widget ipython "
   ]
  },
  {
   "cell_type": "markdown",
   "metadata": {},
   "source": [
    "#### Czy ma przetwarzać procesor czy fpga"
   ]
  },
  {
   "cell_type": "code",
   "execution_count": null,
   "metadata": {},
   "outputs": [],
   "source": [
    "from ipywidgets import interact, interactive, fixed, interact_manual\n",
    "from ipywidgets import IntSlider, FloatSlider\n",
    "import ipywidgets as widgets\n",
    "\n",
    "interact(setProcessing, whichProcessing = ['Fpga processing', 'Procesor processing']);"
   ]
  },
  {
   "cell_type": "markdown",
   "metadata": {},
   "source": [
    "#### Jaki filtr"
   ]
  },
  {
   "cell_type": "code",
   "execution_count": null,
   "metadata": {},
   "outputs": [],
   "source": [
    "interact(setKernelAndFilter3x3, kernelName\n",
    "         = ['Sobel ver','Sobel hor','Laplacian high-pass','Gaussian high-pass','Average blur',\n",
    "            'Gaussian blur',]);"
   ]
  },
  {
   "cell_type": "markdown",
   "metadata": {},
   "source": [
    "### Rozpoczęcie przetwarzania"
   ]
  },
  {
   "cell_type": "code",
   "execution_count": null,
   "metadata": {},
   "outputs": [],
   "source": [
    "t = MainLoop()\n",
    "t.start()"
   ]
  },
  {
   "cell_type": "markdown",
   "metadata": {},
   "source": [
    "### Zatrzymanie działania programu"
   ]
  },
  {
   "cell_type": "code",
   "execution_count": null,
   "metadata": {},
   "outputs": [],
   "source": [
    "t.stop()"
   ]
  },
  {
   "cell_type": "markdown",
   "metadata": {},
   "source": [
    "### Zamknij hdmi"
   ]
  },
  {
   "cell_type": "code",
   "execution_count": null,
   "metadata": {},
   "outputs": [],
   "source": [
    "hdmi_out.close()\n",
    "hdmi_in.close()"
   ]
  }
 ],
 "metadata": {
  "kernelspec": {
   "display_name": "Python 3",
   "language": "python",
   "name": "python3"
  },
  "language_info": {
   "codemirror_mode": {
    "name": "ipython",
    "version": 3
   },
   "file_extension": ".py",
   "mimetype": "text/x-python",
   "name": "python",
   "nbconvert_exporter": "python",
   "pygments_lexer": "ipython3",
   "version": "3.6.5"
  }
 },
 "nbformat": 4,
 "nbformat_minor": 2
}
